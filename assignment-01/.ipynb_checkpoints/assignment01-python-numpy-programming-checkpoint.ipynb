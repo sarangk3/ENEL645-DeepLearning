{
 "cells": [
  {
   "cell_type": "markdown",
   "id": "ae7a1984",
   "metadata": {},
   "source": [
    "# Assignment #01\n",
    "\n",
    "This assignment is composed of multiple Python and NumPy programming exercises. The deliverable of this assignment is this jupyter-notebook completed with your solution.\n",
    "\n",
    "The delivery instructions are the following:\n",
    "    - Create a GitHub repository for your team. You are free to choose its name. This repository will be used to delvier the programming assignments and the code of your team's final project.\n",
    "    - Create a folder assignment-01 in the repository. Put the jupyter-notebook with your solution in this repository and post the repository link in your team's D2L dropbox for the assignment.\n",
    "\n",
    "You are being assessed based on:\n",
    "\n",
    "1. Code execution - 25% \n",
    "2. Clarity of the code (e.g., easy to follow, has pertinent comments, etc.) - 25%\n",
    "3. Proper usage of the techniques seen in class - 25%\n",
    "    - remember to avoid explicit Python loops!  \n",
    "4. Quality and correcteness of the results - 25%\n",
    "\n",
    "More details about the assessment are available in the rubric document in the class GitHub repository.\n",
    "\n",
    "Points distribution:\n",
    "- Question 2-21: 3 points per question \n",
    "- Questions 22-26: 8 points per question (total 40)\n",
    "- Total: 100 ponits"
   ]
  },
  {
   "cell_type": "code",
   "execution_count": 1,
   "id": "13c481c8",
   "metadata": {},
   "outputs": [],
   "source": [
    "import matplotlib.pylab as plt"
   ]
  },
  {
   "cell_type": "markdown",
   "id": "0711313d",
   "metadata": {},
   "source": [
    "**1. Import the numpy package under the name np**"
   ]
  },
  {
   "cell_type": "code",
   "execution_count": 2,
   "id": "6714adde",
   "metadata": {},
   "outputs": [],
   "source": [
    "import numpy as np"
   ]
  },
  {
   "cell_type": "markdown",
   "id": "ae278eea",
   "metadata": {},
   "source": [
    "**2. Print the numpy version and the configuration**"
   ]
  },
  {
   "cell_type": "code",
   "execution_count": 10,
   "id": "96dd505e",
   "metadata": {},
   "outputs": [
    {
     "name": "stdout",
     "output_type": "stream",
     "text": [
      "Version:  1.19.5\n"
     ]
    }
   ],
   "source": [
    "print(\"Version: \",np.__version__)\n"
   ]
  },
  {
   "cell_type": "code",
   "execution_count": 15,
   "id": "191eeae0",
   "metadata": {},
   "outputs": [
    {
     "name": "stdout",
     "output_type": "stream",
     "text": [
      "blas_mkl_info:\n",
      "  NOT AVAILABLE\n",
      "blis_info:\n",
      "  NOT AVAILABLE\n",
      "openblas_info:\n",
      "    libraries = ['openblas', 'openblas']\n",
      "    library_dirs = ['/usr/local/lib']\n",
      "    language = c\n",
      "    define_macros = [('HAVE_CBLAS', None)]\n",
      "blas_opt_info:\n",
      "    libraries = ['openblas', 'openblas']\n",
      "    library_dirs = ['/usr/local/lib']\n",
      "    language = c\n",
      "    define_macros = [('HAVE_CBLAS', None)]\n",
      "lapack_mkl_info:\n",
      "  NOT AVAILABLE\n",
      "openblas_lapack_info:\n",
      "    libraries = ['openblas', 'openblas']\n",
      "    library_dirs = ['/usr/local/lib']\n",
      "    language = c\n",
      "    define_macros = [('HAVE_CBLAS', None)]\n",
      "lapack_opt_info:\n",
      "    libraries = ['openblas', 'openblas']\n",
      "    library_dirs = ['/usr/local/lib']\n",
      "    language = c\n",
      "    define_macros = [('HAVE_CBLAS', None)]\n",
      "None\n"
     ]
    }
   ],
   "source": [
    "print(np.show_config())"
   ]
  },
  {
   "cell_type": "markdown",
   "id": "b7e5d117",
   "metadata": {},
   "source": [
    "**3. Create a 1D array of zeros of size 10 of type float32**"
   ]
  },
  {
   "cell_type": "code",
   "execution_count": 17,
   "id": "cd5831ae",
   "metadata": {},
   "outputs": [],
   "source": [
    "d = np.zeros(10, dtype='float32')"
   ]
  },
  {
   "cell_type": "markdown",
   "id": "2d16a9a5",
   "metadata": {},
   "source": [
    "**4. Print the memory size of the array below**"
   ]
  },
  {
   "cell_type": "code",
   "execution_count": 20,
   "id": "43d5e455",
   "metadata": {},
   "outputs": [
    {
     "name": "stdout",
     "output_type": "stream",
     "text": [
      "Memory size of array Z in bytes is:  3072\n"
     ]
    }
   ],
   "source": [
    "Z = np.zeros((32,12))\n",
    "# Include your solution below\n",
    "memory = Z.size * Z.itemsize\n",
    "print(\"Memory size of array Z in bytes is: \", memory)"
   ]
  },
  {
   "cell_type": "markdown",
   "id": "05d95274",
   "metadata": {},
   "source": [
    "**5. Create a 1D array with values ranging from 10 to 58**"
   ]
  },
  {
   "cell_type": "code",
   "execution_count": 28,
   "id": "e483a883",
   "metadata": {},
   "outputs": [
    {
     "data": {
      "text/plain": [
       "array([10, 11, 12, 13, 14, 15, 16, 17, 18, 19, 20, 21, 22, 23, 24, 25, 26,\n",
       "       27, 28, 29, 30, 31, 32, 33, 34, 35, 36, 37, 38, 39, 40, 41, 42, 43,\n",
       "       44, 45, 46, 47, 48, 49, 50, 51, 52, 53, 54, 55, 56, 57, 58])"
      ]
     },
     "execution_count": 28,
     "metadata": {},
     "output_type": "execute_result"
    }
   ],
   "source": [
    "np.arange(10,59)"
   ]
  },
  {
   "cell_type": "markdown",
   "id": "b58069f9",
   "metadata": {},
   "source": [
    "**6. Reverse the order of the values in the vector (first element becomes last)**"
   ]
  },
  {
   "cell_type": "code",
   "execution_count": 46,
   "id": "04d2e29f",
   "metadata": {},
   "outputs": [
    {
     "data": {
      "text/plain": [
       "array([9, 8, 7, 6, 5, 4, 3, 2, 1, 0])"
      ]
     },
     "execution_count": 46,
     "metadata": {},
     "output_type": "execute_result"
    }
   ],
   "source": [
    "a = np.arange(10)\n",
    "# Include your solution below\n",
    "a[::-1]"
   ]
  },
  {
   "cell_type": "markdown",
   "id": "f9bcf9e3",
   "metadata": {},
   "source": [
    "**7. Create a 3x3 matrix with values ranging from 0 to 8**"
   ]
  },
  {
   "cell_type": "code",
   "execution_count": 56,
   "id": "3dc14b75",
   "metadata": {},
   "outputs": [
    {
     "data": {
      "text/plain": [
       "array([[0, 1, 2],\n",
       "       [3, 4, 5],\n",
       "       [6, 7, 8]])"
      ]
     },
     "execution_count": 56,
     "metadata": {},
     "output_type": "execute_result"
    }
   ],
   "source": [
    "np.arange(9).reshape(3,3)"
   ]
  },
  {
   "cell_type": "markdown",
   "id": "9d89b5e4",
   "metadata": {},
   "source": [
    "**8. Create a 3x3 identity matrix**"
   ]
  },
  {
   "cell_type": "code",
   "execution_count": 53,
   "id": "79e2eed7",
   "metadata": {},
   "outputs": [
    {
     "data": {
      "text/plain": [
       "array([[1., 0., 0.],\n",
       "       [0., 1., 0.],\n",
       "       [0., 0., 1.]])"
      ]
     },
     "execution_count": 53,
     "metadata": {},
     "output_type": "execute_result"
    }
   ],
   "source": [
    "np.identity(3)"
   ]
  },
  {
   "cell_type": "markdown",
   "id": "a0ff0b06",
   "metadata": {},
   "source": [
    "**9. Find and print the maximum values of each column in the array below** "
   ]
  },
  {
   "cell_type": "code",
   "execution_count": 75,
   "id": "b374af44",
   "metadata": {},
   "outputs": [
    {
     "data": {
      "text/html": [
       "<div>\n",
       "<style scoped>\n",
       "    .dataframe tbody tr th:only-of-type {\n",
       "        vertical-align: middle;\n",
       "    }\n",
       "\n",
       "    .dataframe tbody tr th {\n",
       "        vertical-align: top;\n",
       "    }\n",
       "\n",
       "    .dataframe thead th {\n",
       "        text-align: right;\n",
       "    }\n",
       "</style>\n",
       "<table border=\"1\" class=\"dataframe\">\n",
       "  <thead>\n",
       "    <tr style=\"text-align: right;\">\n",
       "      <th></th>\n",
       "      <th>0</th>\n",
       "      <th>1</th>\n",
       "      <th>2</th>\n",
       "      <th>3</th>\n",
       "      <th>4</th>\n",
       "      <th>5</th>\n",
       "      <th>6</th>\n",
       "      <th>7</th>\n",
       "      <th>8</th>\n",
       "      <th>9</th>\n",
       "      <th>10</th>\n",
       "    </tr>\n",
       "  </thead>\n",
       "  <tbody>\n",
       "    <tr>\n",
       "      <th>0</th>\n",
       "      <td>0.447737</td>\n",
       "      <td>0.116763</td>\n",
       "      <td>0.700128</td>\n",
       "      <td>0.865398</td>\n",
       "      <td>0.210769</td>\n",
       "      <td>0.306645</td>\n",
       "      <td>0.752150</td>\n",
       "      <td>0.110675</td>\n",
       "      <td>0.826520</td>\n",
       "      <td>0.572527</td>\n",
       "      <td>0.081341</td>\n",
       "    </tr>\n",
       "    <tr>\n",
       "      <th>1</th>\n",
       "      <td>0.676177</td>\n",
       "      <td>0.616941</td>\n",
       "      <td>0.909299</td>\n",
       "      <td>0.153384</td>\n",
       "      <td>0.138592</td>\n",
       "      <td>0.670452</td>\n",
       "      <td>0.146752</td>\n",
       "      <td>0.698106</td>\n",
       "      <td>0.954123</td>\n",
       "      <td>0.243758</td>\n",
       "      <td>0.362036</td>\n",
       "    </tr>\n",
       "    <tr>\n",
       "      <th>2</th>\n",
       "      <td>0.411315</td>\n",
       "      <td>0.485318</td>\n",
       "      <td>0.904902</td>\n",
       "      <td>0.354820</td>\n",
       "      <td>0.422447</td>\n",
       "      <td>0.376920</td>\n",
       "      <td>0.917712</td>\n",
       "      <td>0.145894</td>\n",
       "      <td>0.113701</td>\n",
       "      <td>0.487799</td>\n",
       "      <td>0.030324</td>\n",
       "    </tr>\n",
       "    <tr>\n",
       "      <th>3</th>\n",
       "      <td>0.336081</td>\n",
       "      <td>0.584089</td>\n",
       "      <td>0.500862</td>\n",
       "      <td>0.837444</td>\n",
       "      <td>0.963381</td>\n",
       "      <td>0.023801</td>\n",
       "      <td>0.488506</td>\n",
       "      <td>0.593747</td>\n",
       "      <td>0.641981</td>\n",
       "      <td>0.569293</td>\n",
       "      <td>0.888814</td>\n",
       "    </tr>\n",
       "    <tr>\n",
       "      <th>4</th>\n",
       "      <td>0.463811</td>\n",
       "      <td>0.475100</td>\n",
       "      <td>0.646763</td>\n",
       "      <td>0.524077</td>\n",
       "      <td>0.284505</td>\n",
       "      <td>0.777642</td>\n",
       "      <td>0.330141</td>\n",
       "      <td>0.778743</td>\n",
       "      <td>0.460855</td>\n",
       "      <td>0.580694</td>\n",
       "      <td>0.545583</td>\n",
       "    </tr>\n",
       "    <tr>\n",
       "      <th>5</th>\n",
       "      <td>0.892317</td>\n",
       "      <td>0.961988</td>\n",
       "      <td>0.488988</td>\n",
       "      <td>0.519583</td>\n",
       "      <td>0.143115</td>\n",
       "      <td>0.550947</td>\n",
       "      <td>0.416747</td>\n",
       "      <td>0.637977</td>\n",
       "      <td>0.468244</td>\n",
       "      <td>0.531170</td>\n",
       "      <td>0.504148</td>\n",
       "    </tr>\n",
       "    <tr>\n",
       "      <th>6</th>\n",
       "      <td>0.124895</td>\n",
       "      <td>0.104307</td>\n",
       "      <td>0.145878</td>\n",
       "      <td>0.320703</td>\n",
       "      <td>0.790923</td>\n",
       "      <td>0.199344</td>\n",
       "      <td>0.495470</td>\n",
       "      <td>0.668984</td>\n",
       "      <td>0.169627</td>\n",
       "      <td>0.181427</td>\n",
       "      <td>0.492381</td>\n",
       "    </tr>\n",
       "    <tr>\n",
       "      <th>7</th>\n",
       "      <td>0.276537</td>\n",
       "      <td>0.253971</td>\n",
       "      <td>0.420994</td>\n",
       "      <td>0.428324</td>\n",
       "      <td>0.184869</td>\n",
       "      <td>0.952247</td>\n",
       "      <td>0.541780</td>\n",
       "      <td>0.658735</td>\n",
       "      <td>0.289211</td>\n",
       "      <td>0.167664</td>\n",
       "      <td>0.410637</td>\n",
       "    </tr>\n",
       "    <tr>\n",
       "      <th>8</th>\n",
       "      <td>0.057474</td>\n",
       "      <td>0.315225</td>\n",
       "      <td>0.206293</td>\n",
       "      <td>0.181973</td>\n",
       "      <td>0.243424</td>\n",
       "      <td>0.608259</td>\n",
       "      <td>0.512047</td>\n",
       "      <td>0.506882</td>\n",
       "      <td>0.846673</td>\n",
       "      <td>0.903404</td>\n",
       "      <td>0.275593</td>\n",
       "    </tr>\n",
       "    <tr>\n",
       "      <th>9</th>\n",
       "      <td>0.482636</td>\n",
       "      <td>0.455557</td>\n",
       "      <td>0.724533</td>\n",
       "      <td>0.724414</td>\n",
       "      <td>0.134771</td>\n",
       "      <td>0.469404</td>\n",
       "      <td>0.010528</td>\n",
       "      <td>0.745528</td>\n",
       "      <td>0.804365</td>\n",
       "      <td>0.279015</td>\n",
       "      <td>0.371136</td>\n",
       "    </tr>\n",
       "  </tbody>\n",
       "</table>\n",
       "</div>"
      ],
      "text/plain": [
       "         0         1         2         3         4         5         6   \\\n",
       "0  0.447737  0.116763  0.700128  0.865398  0.210769  0.306645  0.752150   \n",
       "1  0.676177  0.616941  0.909299  0.153384  0.138592  0.670452  0.146752   \n",
       "2  0.411315  0.485318  0.904902  0.354820  0.422447  0.376920  0.917712   \n",
       "3  0.336081  0.584089  0.500862  0.837444  0.963381  0.023801  0.488506   \n",
       "4  0.463811  0.475100  0.646763  0.524077  0.284505  0.777642  0.330141   \n",
       "5  0.892317  0.961988  0.488988  0.519583  0.143115  0.550947  0.416747   \n",
       "6  0.124895  0.104307  0.145878  0.320703  0.790923  0.199344  0.495470   \n",
       "7  0.276537  0.253971  0.420994  0.428324  0.184869  0.952247  0.541780   \n",
       "8  0.057474  0.315225  0.206293  0.181973  0.243424  0.608259  0.512047   \n",
       "9  0.482636  0.455557  0.724533  0.724414  0.134771  0.469404  0.010528   \n",
       "\n",
       "         7         8         9         10  \n",
       "0  0.110675  0.826520  0.572527  0.081341  \n",
       "1  0.698106  0.954123  0.243758  0.362036  \n",
       "2  0.145894  0.113701  0.487799  0.030324  \n",
       "3  0.593747  0.641981  0.569293  0.888814  \n",
       "4  0.778743  0.460855  0.580694  0.545583  \n",
       "5  0.637977  0.468244  0.531170  0.504148  \n",
       "6  0.668984  0.169627  0.181427  0.492381  \n",
       "7  0.658735  0.289211  0.167664  0.410637  \n",
       "8  0.506882  0.846673  0.903404  0.275593  \n",
       "9  0.745528  0.804365  0.279015  0.371136  "
      ]
     },
     "execution_count": 75,
     "metadata": {},
     "output_type": "execute_result"
    }
   ],
   "source": [
    "Z = np.random.random((10,11))\n",
    "# Include your solution below\n",
    "\n",
    "#Will show values in a dataframe for easier viewing and checking\n",
    "import pandas as pd\n",
    "pd.DataFrame(Z)"
   ]
  },
  {
   "cell_type": "code",
   "execution_count": 76,
   "id": "2ef71642",
   "metadata": {},
   "outputs": [
    {
     "name": "stdout",
     "output_type": "stream",
     "text": [
      "[0.89231748 0.9619878  0.90929913 0.8653979  0.96338063 0.95224683\n",
      " 0.91771219 0.77874303 0.95412254 0.90340377 0.88881408]\n"
     ]
    }
   ],
   "source": [
    "#Maximum values in each column shown in an array\n",
    "print(np.amax(Z,axis=0))"
   ]
  },
  {
   "cell_type": "markdown",
   "id": "c547b69c",
   "metadata": {},
   "source": [
    "**10. Create a $7 \\times 7$ array with 1s on the borders (first row and column, last row and columns) and 0s everywhere else**"
   ]
  },
  {
   "cell_type": "code",
   "execution_count": 87,
   "id": "5b954148",
   "metadata": {},
   "outputs": [
    {
     "data": {
      "text/plain": [
       "array([[1., 1., 1., 1., 1., 1., 1.],\n",
       "       [1., 0., 0., 0., 0., 0., 1.],\n",
       "       [1., 0., 0., 0., 0., 0., 1.],\n",
       "       [1., 0., 0., 0., 0., 0., 1.],\n",
       "       [1., 0., 0., 0., 0., 0., 1.],\n",
       "       [1., 0., 0., 0., 0., 0., 1.],\n",
       "       [1., 1., 1., 1., 1., 1., 1.]])"
      ]
     },
     "execution_count": 87,
     "metadata": {},
     "output_type": "execute_result"
    }
   ],
   "source": [
    "a = np.zeros(49).reshape(7,7)\n",
    "a[0,:]=1\n",
    "a[:,0]=1\n",
    "a[-1,:]=1\n",
    "a[:,-1]=1\n",
    "a"
   ]
  },
  {
   "cell_type": "markdown",
   "id": "312b1d60",
   "metadata": {},
   "source": [
    "**11. Pad the existing array below with zeros (i.e., add additional rows and columns with zeros). Use the NumPy pad function.**"
   ]
  },
  {
   "cell_type": "code",
   "execution_count": 91,
   "id": "02174389",
   "metadata": {},
   "outputs": [
    {
     "data": {
      "text/plain": [
       "array([[0., 0., 0., 0., 0., 0., 0., 0., 0.],\n",
       "       [0., 0., 0., 0., 0., 0., 0., 0., 0.],\n",
       "       [0., 0., 1., 1., 1., 1., 1., 0., 0.],\n",
       "       [0., 0., 1., 1., 1., 1., 1., 0., 0.],\n",
       "       [0., 0., 1., 1., 1., 1., 1., 0., 0.],\n",
       "       [0., 0., 1., 1., 1., 1., 1., 0., 0.],\n",
       "       [0., 0., 1., 1., 1., 1., 1., 0., 0.],\n",
       "       [0., 0., 0., 0., 0., 0., 0., 0., 0.],\n",
       "       [0., 0., 0., 0., 0., 0., 0., 0., 0.]])"
      ]
     },
     "execution_count": 91,
     "metadata": {},
     "output_type": "execute_result"
    }
   ],
   "source": [
    "Z = np.ones((5,5))\n",
    "# Include your solution below\n",
    "\n",
    "np.pad(Z, 2,'constant',constant_values=0)\n"
   ]
  },
  {
   "cell_type": "markdown",
   "id": "f80d37d1",
   "metadata": {},
   "source": [
    "**12. Extract the integer part of the random array of positive numbers below**"
   ]
  },
  {
   "cell_type": "code",
   "execution_count": 97,
   "id": "f7f920b0",
   "metadata": {},
   "outputs": [
    {
     "name": "stdout",
     "output_type": "stream",
     "text": [
      "Z: [ 7.  1.  7.  5.  9.  6.  5.  6.  9. 10.]\n"
     ]
    }
   ],
   "source": [
    "Z = np.random.uniform(0,10,10)\n",
    "# Include your solution below\n",
    "\n",
    "np.set_printoptions(suppress=True, precision=0)\n",
    "print('Z:', Z)"
   ]
  },
  {
   "cell_type": "markdown",
   "id": "3429544b",
   "metadata": {},
   "source": [
    "**13. Create a 5x5 matrix with rows with equal values ranging from 0 to 4 (i.e., [0,1,2,3,4])**\n",
    "\n",
    "*Hint:* consider using NumPy broadcasting or the tile function*"
   ]
  },
  {
   "cell_type": "code",
   "execution_count": 102,
   "id": "db900938",
   "metadata": {},
   "outputs": [
    {
     "data": {
      "text/plain": [
       "array([[0, 1, 2, 3, 4],\n",
       "       [0, 1, 2, 3, 4],\n",
       "       [0, 1, 2, 3, 4],\n",
       "       [0, 1, 2, 3, 4],\n",
       "       [0, 1, 2, 3, 4]])"
      ]
     },
     "execution_count": 102,
     "metadata": {},
     "output_type": "execute_result"
    }
   ],
   "source": [
    "a = np.arange(5)\n",
    "np.tile(a,[5,1])"
   ]
  },
  {
   "cell_type": "markdown",
   "id": "46c06ee2",
   "metadata": {},
   "source": [
    "**14. Create a vector of size 10 with values ranging from 0 to 1 (0 and 1 not included)**\n",
    "\n",
    "*Hint: Consider using the linspace function*"
   ]
  },
  {
   "cell_type": "code",
   "execution_count": 107,
   "id": "df3b1116",
   "metadata": {},
   "outputs": [
    {
     "data": {
      "text/plain": [
       "array([0.   , 0.111, 0.222, 0.333, 0.444, 0.556, 0.667, 0.778, 0.889,\n",
       "       1.   ])"
      ]
     },
     "execution_count": 107,
     "metadata": {},
     "output_type": "execute_result"
    }
   ],
   "source": [
    "np.set_printoptions(suppress=True, precision=3)\n",
    "a = np.linspace(0,1,10)\n",
    "a"
   ]
  },
  {
   "cell_type": "markdown",
   "id": "ac0e7bf3",
   "metadata": {},
   "source": [
    "**15. Create a random vector of size 10 and sort it**"
   ]
  },
  {
   "cell_type": "code",
   "execution_count": 117,
   "id": "499756ab",
   "metadata": {},
   "outputs": [
    {
     "data": {
      "text/plain": [
       "array([0.075, 0.097, 0.344, 0.564, 0.602, 0.743, 0.832, 0.871, 0.876,\n",
       "       0.93 ])"
      ]
     },
     "execution_count": 117,
     "metadata": {},
     "output_type": "execute_result"
    }
   ],
   "source": [
    "a = np.random.random(10)\n",
    "a.sort()\n",
    "a"
   ]
  },
  {
   "cell_type": "markdown",
   "id": "8dd3375d",
   "metadata": {},
   "source": [
    "**16. Consider the cartesian coordinates below (X and Y), convert them to polar coordinates (R and T)**"
   ]
  },
  {
   "cell_type": "code",
   "execution_count": 128,
   "id": "971e5b04",
   "metadata": {},
   "outputs": [
    {
     "name": "stdout",
     "output_type": "stream",
     "text": [
      "0.06927823269490185 0.9841925021472738 0.9866277691248309 1.500521304740927\n"
     ]
    }
   ],
   "source": [
    "Z = np.random.random((10,2))\n",
    "X,Y = Z[:,0], Z[:,1]\n",
    "# Include your solution below\n",
    "R = np.sqrt(X**2+Y**2)\n",
    "T = np.arctan2(Y,X)\n",
    "print(X[0],Y[0],R[0],T[0])"
   ]
  },
  {
   "cell_type": "markdown",
   "id": "e9d41a59",
   "metadata": {},
   "source": [
    "**17. Create random vector of size 10 and replace the maximum value by 0**"
   ]
  },
  {
   "cell_type": "code",
   "execution_count": 139,
   "id": "4b72db5d",
   "metadata": {},
   "outputs": [
    {
     "name": "stdout",
     "output_type": "stream",
     "text": [
      "Original vector:  [0.241 0.468 0.554 0.682 0.855 0.784 0.359 0.645 0.66  0.639]\n",
      "Modified vector:  [0.241 0.468 0.554 0.682 0.    0.784 0.359 0.645 0.66  0.639]\n"
     ]
    }
   ],
   "source": [
    "a = np.random.random(10)\n",
    "print(\"Original vector: \",a)\n",
    "print(\"Modified vector: \",np.where(a==np.amax(a),0,a))"
   ]
  },
  {
   "cell_type": "markdown",
   "id": "60fa8c56",
   "metadata": {},
   "source": [
    "**18. Find the nearest value from a given value (z) in an array (Z)**"
   ]
  },
  {
   "cell_type": "code",
   "execution_count": 140,
   "id": "e4616701",
   "metadata": {},
   "outputs": [
    {
     "data": {
      "text/plain": [
       "array([0.108, 0.936, 0.549, 0.391, 0.061, 0.796, 0.92 , 0.1  , 0.814,\n",
       "       0.813])"
      ]
     },
     "execution_count": 140,
     "metadata": {},
     "output_type": "execute_result"
    }
   ],
   "source": [
    "Z = np.random.uniform(0,1,10)\n",
    "z = 0.5\n",
    "# Include your solution below\n",
    "Z"
   ]
  },
  {
   "cell_type": "markdown",
   "id": "4c519936",
   "metadata": {},
   "source": [
    "**19. Consider the vector [5, 4, 3, 2, 1], how to build a new vector with 3 consecutive zeros interleaved between each value?**"
   ]
  },
  {
   "cell_type": "code",
   "execution_count": null,
   "id": "d72d90a5",
   "metadata": {},
   "outputs": [],
   "source": [
    "Z = np.arange(5)[::-1]\n",
    "# Include your solution below\n"
   ]
  },
  {
   "cell_type": "markdown",
   "id": "ecca852b",
   "metadata": {},
   "source": [
    "**20. Consider an array of dimension (5,5,3), how to mulitply it element-wise by an array with dimensions (5,5) - i.e., (5,5,0)$\\times$(5,5), (5,5,1)$\\times$(5,5), (5,5,2)$\\times$(5,5)**"
   ]
  },
  {
   "cell_type": "code",
   "execution_count": null,
   "id": "5c0919c4",
   "metadata": {},
   "outputs": [],
   "source": [
    "A = np.ones((5,5,3))\n",
    "B = 2*np.ones((5,5))\n",
    "# Include your solution below\n",
    "\n"
   ]
  },
  {
   "cell_type": "markdown",
   "id": "02183d97",
   "metadata": {},
   "source": [
    "**21. Swap the first and second rows of the 2D array below**"
   ]
  },
  {
   "cell_type": "code",
   "execution_count": null,
   "id": "fb1fb3eb",
   "metadata": {},
   "outputs": [],
   "source": [
    "W = np.arange(30).reshape(6,5)\n",
    "print(W)\n",
    "print()\n",
    "# Include your solution below\n"
   ]
  },
  {
   "cell_type": "markdown",
   "id": "e98d661a",
   "metadata": {},
   "source": [
    "**22. Write a function that receives as input a 2D Boolean NumPy array and outputs the coordinates of the minimal bounding-box\n",
    "that encloses all non-zero elements in the input array**\n",
    "\n",
    "**Tip:** search for the functions nonzero and where in the NumPy documentation.\n",
    "\n",
    "\n",
    "<img src=\"../Figures/bbox.png\" width=\"150\" /> "
   ]
  },
  {
   "cell_type": "code",
   "execution_count": null,
   "id": "36b5a514",
   "metadata": {},
   "outputs": [],
   "source": [
    "def bbox(img):\n",
    "    #include your solution below\n",
    "    return (r1,c1),(r2,c2)\n",
    "\n",
    "\n",
    "from PIL import Image\n",
    "\n",
    "img = np.array(Image.open('../Figures/bin_image.png').convert('L')) > 0\n",
    "print(bbox(img))"
   ]
  },
  {
   "cell_type": "markdown",
   "id": "eb155601",
   "metadata": {},
   "source": [
    "**23.Write a function to compute the average over a sliding window of length N over a 1D array?**\n",
    "\n",
    "*Example:* [1,2,3,4,5,6,7,8,9], N = 3 -> [2,5,8]"
   ]
  },
  {
   "cell_type": "code",
   "execution_count": null,
   "id": "e718b73d",
   "metadata": {},
   "outputs": [],
   "source": [
    "def moving_average(x,N = 3):\n",
    "    #define your function here\n",
    "    return\n",
    "\n",
    "a = np.arange(30)\n",
    "N = 3\n",
    "print(moving_average(a,N))"
   ]
  },
  {
   "cell_type": "markdown",
   "id": "654f9670",
   "metadata": {},
   "source": [
    "**24.  Given a sorted 1D array C that corresponds to a bincount, how to produce an array A such that np.bincount(A) == C?**\n",
    "\n",
    "*Example:* C = [3,2,4] -> D = [0,0,0,1,1,2,2,2,2]\n",
    "\n",
    "*Tip:* Consider using the NumPy repeat function"
   ]
  },
  {
   "cell_type": "code",
   "execution_count": null,
   "id": "f1586e9e",
   "metadata": {},
   "outputs": [],
   "source": [
    "C = np.bincount([1,1,2,3,4,4,6])\n",
    "print(C)\n",
    "# Include yoru solution here"
   ]
  },
  {
   "cell_type": "markdown",
   "id": "bc3e20b6",
   "metadata": {},
   "source": [
    "**25. Find the most frequent value in the array below?**"
   ]
  },
  {
   "cell_type": "code",
   "execution_count": null,
   "id": "b6d1613c",
   "metadata": {},
   "outputs": [],
   "source": [
    "Z = np.random.randint(0,10,50)\n",
    "# Include your solution below"
   ]
  },
  {
   "cell_type": "markdown",
   "id": "fa7cd529",
   "metadata": {},
   "source": [
    "**26. Write a function to return the n largest values of an array** "
   ]
  },
  {
   "cell_type": "code",
   "execution_count": null,
   "id": "6a38fff9",
   "metadata": {},
   "outputs": [],
   "source": [
    "def nlargest(a,n = 5):\n",
    "    # Include your solution here\n",
    "    \n",
    "    return\n",
    "\n",
    "Z = np.arange(10000)\n",
    "np.random.shuffle(Z)\n",
    "n = 5\n",
    "print(nlargest(Z,n))    "
   ]
  }
 ],
 "metadata": {
  "kernelspec": {
   "display_name": "Python 3",
   "language": "python",
   "name": "python3"
  },
  "language_info": {
   "codemirror_mode": {
    "name": "ipython",
    "version": 3
   },
   "file_extension": ".py",
   "mimetype": "text/x-python",
   "name": "python",
   "nbconvert_exporter": "python",
   "pygments_lexer": "ipython3",
   "version": "3.8.8"
  }
 },
 "nbformat": 4,
 "nbformat_minor": 5
}
